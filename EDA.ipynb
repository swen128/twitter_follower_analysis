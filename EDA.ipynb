{
 "cells": [
  {
   "cell_type": "code",
   "execution_count": 1,
   "metadata": {},
   "outputs": [],
   "source": [
    "import os\n",
    "from collections import Counter\n",
    "from itertools import chain\n",
    "\n",
    "import numpy as np\n",
    "import pandas\n",
    "from dotenv import load_dotenv\n",
    "from matplotlib import pyplot\n",
    "from sklearn.manifold import TSNE"
   ]
  },
  {
   "cell_type": "code",
   "execution_count": 2,
   "metadata": {},
   "outputs": [],
   "source": [
    "load_dotenv()\n",
    "\n",
    "data_dir = os.environ.get('DATA_DIR')"
   ]
  },
  {
   "cell_type": "code",
   "execution_count": 3,
   "metadata": {},
   "outputs": [],
   "source": [
    "def load(name):\n",
    "    path = os.path.join(data_dir, name)\n",
    "    return set(np.loadtxt(path, dtype=np.unicode))"
   ]
  },
  {
   "cell_type": "code",
   "execution_count": 4,
   "metadata": {},
   "outputs": [],
   "source": [
    "names = os.listdir(data_dir)\n",
    "followerss = [load(name) for name in names]"
   ]
  },
  {
   "cell_type": "code",
   "execution_count": 5,
   "metadata": {},
   "outputs": [
    {
     "data": {
      "text/plain": [
       "73"
      ]
     },
     "execution_count": 5,
     "metadata": {},
     "output_type": "execute_result"
    }
   ],
   "source": [
    "n_users = len(names)\n",
    "n_users"
   ]
  },
  {
   "cell_type": "markdown",
   "metadata": {},
   "source": [
    "# Stats"
   ]
  },
  {
   "cell_type": "code",
   "execution_count": 6,
   "metadata": {},
   "outputs": [
    {
     "data": {
      "text/plain": [
       "4300386"
      ]
     },
     "execution_count": 6,
     "metadata": {},
     "output_type": "execute_result"
    }
   ],
   "source": [
    "sum_of_followers = sum([len(lst) for lst in followerss])\n",
    "sum_of_followers"
   ]
  },
  {
   "cell_type": "code",
   "execution_count": 7,
   "metadata": {},
   "outputs": [
    {
     "data": {
      "text/plain": [
       "465462"
      ]
     },
     "execution_count": 7,
     "metadata": {},
     "output_type": "execute_result"
    }
   ],
   "source": [
    "num_of_unique_followers = len(set().union(*followerss))\n",
    "num_of_unique_followers"
   ]
  },
  {
   "cell_type": "code",
   "execution_count": 8,
   "metadata": {},
   "outputs": [
    {
     "data": {
      "text/plain": [
       "0.10823726056219139"
      ]
     },
     "execution_count": 8,
     "metadata": {},
     "output_type": "execute_result"
    }
   ],
   "source": [
    "num_of_unique_followers / sum_of_followers"
   ]
  },
  {
   "cell_type": "markdown",
   "metadata": {},
   "source": [
    "# Distribution of number of followings"
   ]
  },
  {
   "cell_type": "code",
   "execution_count": 9,
   "metadata": {
    "scrolled": false
   },
   "outputs": [
    {
     "data": {
      "text/html": [
       "<style  type=\"text/css\" >\n",
       "</style><table id=\"T_2a02404c_7eba_11e9_8137_e0d55e60668e\" ><thead>    <tr>        <th class=\"col_heading level0 col0\" >number_of_followings</th>        <th class=\"col_heading level0 col1\" >population</th>    </tr></thead><tbody>\n",
       "                <tr>\n",
       "                                <td id=\"T_2a02404c_7eba_11e9_8137_e0d55e60668erow0_col0\" class=\"data row0 col0\" >1</td>\n",
       "                        <td id=\"T_2a02404c_7eba_11e9_8137_e0d55e60668erow0_col1\" class=\"data row0 col1\" >182385</td>\n",
       "            </tr>\n",
       "            <tr>\n",
       "                                <td id=\"T_2a02404c_7eba_11e9_8137_e0d55e60668erow1_col0\" class=\"data row1 col0\" >2</td>\n",
       "                        <td id=\"T_2a02404c_7eba_11e9_8137_e0d55e60668erow1_col1\" class=\"data row1 col1\" >60070</td>\n",
       "            </tr>\n",
       "            <tr>\n",
       "                                <td id=\"T_2a02404c_7eba_11e9_8137_e0d55e60668erow2_col0\" class=\"data row2 col0\" >3</td>\n",
       "                        <td id=\"T_2a02404c_7eba_11e9_8137_e0d55e60668erow2_col1\" class=\"data row2 col1\" >36276</td>\n",
       "            </tr>\n",
       "            <tr>\n",
       "                                <td id=\"T_2a02404c_7eba_11e9_8137_e0d55e60668erow3_col0\" class=\"data row3 col0\" >4</td>\n",
       "                        <td id=\"T_2a02404c_7eba_11e9_8137_e0d55e60668erow3_col1\" class=\"data row3 col1\" >23799</td>\n",
       "            </tr>\n",
       "            <tr>\n",
       "                                <td id=\"T_2a02404c_7eba_11e9_8137_e0d55e60668erow4_col0\" class=\"data row4 col0\" >5</td>\n",
       "                        <td id=\"T_2a02404c_7eba_11e9_8137_e0d55e60668erow4_col1\" class=\"data row4 col1\" >17270</td>\n",
       "            </tr>\n",
       "            <tr>\n",
       "                                <td id=\"T_2a02404c_7eba_11e9_8137_e0d55e60668erow5_col0\" class=\"data row5 col0\" >6</td>\n",
       "                        <td id=\"T_2a02404c_7eba_11e9_8137_e0d55e60668erow5_col1\" class=\"data row5 col1\" >13082</td>\n",
       "            </tr>\n",
       "            <tr>\n",
       "                                <td id=\"T_2a02404c_7eba_11e9_8137_e0d55e60668erow6_col0\" class=\"data row6 col0\" >7</td>\n",
       "                        <td id=\"T_2a02404c_7eba_11e9_8137_e0d55e60668erow6_col1\" class=\"data row6 col1\" >10389</td>\n",
       "            </tr>\n",
       "            <tr>\n",
       "                                <td id=\"T_2a02404c_7eba_11e9_8137_e0d55e60668erow7_col0\" class=\"data row7 col0\" >8</td>\n",
       "                        <td id=\"T_2a02404c_7eba_11e9_8137_e0d55e60668erow7_col1\" class=\"data row7 col1\" >8784</td>\n",
       "            </tr>\n",
       "            <tr>\n",
       "                                <td id=\"T_2a02404c_7eba_11e9_8137_e0d55e60668erow8_col0\" class=\"data row8 col0\" >9</td>\n",
       "                        <td id=\"T_2a02404c_7eba_11e9_8137_e0d55e60668erow8_col1\" class=\"data row8 col1\" >7243</td>\n",
       "            </tr>\n",
       "            <tr>\n",
       "                                <td id=\"T_2a02404c_7eba_11e9_8137_e0d55e60668erow9_col0\" class=\"data row9 col0\" >10</td>\n",
       "                        <td id=\"T_2a02404c_7eba_11e9_8137_e0d55e60668erow9_col1\" class=\"data row9 col1\" >6290</td>\n",
       "            </tr>\n",
       "            <tr>\n",
       "                                <td id=\"T_2a02404c_7eba_11e9_8137_e0d55e60668erow10_col0\" class=\"data row10 col0\" >11</td>\n",
       "                        <td id=\"T_2a02404c_7eba_11e9_8137_e0d55e60668erow10_col1\" class=\"data row10 col1\" >5569</td>\n",
       "            </tr>\n",
       "            <tr>\n",
       "                                <td id=\"T_2a02404c_7eba_11e9_8137_e0d55e60668erow11_col0\" class=\"data row11 col0\" >12</td>\n",
       "                        <td id=\"T_2a02404c_7eba_11e9_8137_e0d55e60668erow11_col1\" class=\"data row11 col1\" >4926</td>\n",
       "            </tr>\n",
       "            <tr>\n",
       "                                <td id=\"T_2a02404c_7eba_11e9_8137_e0d55e60668erow12_col0\" class=\"data row12 col0\" >13</td>\n",
       "                        <td id=\"T_2a02404c_7eba_11e9_8137_e0d55e60668erow12_col1\" class=\"data row12 col1\" >4288</td>\n",
       "            </tr>\n",
       "            <tr>\n",
       "                                <td id=\"T_2a02404c_7eba_11e9_8137_e0d55e60668erow13_col0\" class=\"data row13 col0\" >14</td>\n",
       "                        <td id=\"T_2a02404c_7eba_11e9_8137_e0d55e60668erow13_col1\" class=\"data row13 col1\" >4088</td>\n",
       "            </tr>\n",
       "            <tr>\n",
       "                                <td id=\"T_2a02404c_7eba_11e9_8137_e0d55e60668erow14_col0\" class=\"data row14 col0\" >15</td>\n",
       "                        <td id=\"T_2a02404c_7eba_11e9_8137_e0d55e60668erow14_col1\" class=\"data row14 col1\" >3673</td>\n",
       "            </tr>\n",
       "            <tr>\n",
       "                                <td id=\"T_2a02404c_7eba_11e9_8137_e0d55e60668erow15_col0\" class=\"data row15 col0\" >16</td>\n",
       "                        <td id=\"T_2a02404c_7eba_11e9_8137_e0d55e60668erow15_col1\" class=\"data row15 col1\" >3357</td>\n",
       "            </tr>\n",
       "            <tr>\n",
       "                                <td id=\"T_2a02404c_7eba_11e9_8137_e0d55e60668erow16_col0\" class=\"data row16 col0\" >17</td>\n",
       "                        <td id=\"T_2a02404c_7eba_11e9_8137_e0d55e60668erow16_col1\" class=\"data row16 col1\" >3343</td>\n",
       "            </tr>\n",
       "            <tr>\n",
       "                                <td id=\"T_2a02404c_7eba_11e9_8137_e0d55e60668erow17_col0\" class=\"data row17 col0\" >18</td>\n",
       "                        <td id=\"T_2a02404c_7eba_11e9_8137_e0d55e60668erow17_col1\" class=\"data row17 col1\" >3793</td>\n",
       "            </tr>\n",
       "            <tr>\n",
       "                                <td id=\"T_2a02404c_7eba_11e9_8137_e0d55e60668erow18_col0\" class=\"data row18 col0\" >19</td>\n",
       "                        <td id=\"T_2a02404c_7eba_11e9_8137_e0d55e60668erow18_col1\" class=\"data row18 col1\" >2980</td>\n",
       "            </tr>\n",
       "            <tr>\n",
       "                                <td id=\"T_2a02404c_7eba_11e9_8137_e0d55e60668erow19_col0\" class=\"data row19 col0\" >20</td>\n",
       "                        <td id=\"T_2a02404c_7eba_11e9_8137_e0d55e60668erow19_col1\" class=\"data row19 col1\" >2916</td>\n",
       "            </tr>\n",
       "            <tr>\n",
       "                                <td id=\"T_2a02404c_7eba_11e9_8137_e0d55e60668erow20_col0\" class=\"data row20 col0\" >21</td>\n",
       "                        <td id=\"T_2a02404c_7eba_11e9_8137_e0d55e60668erow20_col1\" class=\"data row20 col1\" >2438</td>\n",
       "            </tr>\n",
       "            <tr>\n",
       "                                <td id=\"T_2a02404c_7eba_11e9_8137_e0d55e60668erow21_col0\" class=\"data row21 col0\" >22</td>\n",
       "                        <td id=\"T_2a02404c_7eba_11e9_8137_e0d55e60668erow21_col1\" class=\"data row21 col1\" >2182</td>\n",
       "            </tr>\n",
       "            <tr>\n",
       "                                <td id=\"T_2a02404c_7eba_11e9_8137_e0d55e60668erow22_col0\" class=\"data row22 col0\" >23</td>\n",
       "                        <td id=\"T_2a02404c_7eba_11e9_8137_e0d55e60668erow22_col1\" class=\"data row22 col1\" >1999</td>\n",
       "            </tr>\n",
       "            <tr>\n",
       "                                <td id=\"T_2a02404c_7eba_11e9_8137_e0d55e60668erow23_col0\" class=\"data row23 col0\" >24</td>\n",
       "                        <td id=\"T_2a02404c_7eba_11e9_8137_e0d55e60668erow23_col1\" class=\"data row23 col1\" >1840</td>\n",
       "            </tr>\n",
       "            <tr>\n",
       "                                <td id=\"T_2a02404c_7eba_11e9_8137_e0d55e60668erow24_col0\" class=\"data row24 col0\" >25</td>\n",
       "                        <td id=\"T_2a02404c_7eba_11e9_8137_e0d55e60668erow24_col1\" class=\"data row24 col1\" >1751</td>\n",
       "            </tr>\n",
       "            <tr>\n",
       "                                <td id=\"T_2a02404c_7eba_11e9_8137_e0d55e60668erow25_col0\" class=\"data row25 col0\" >26</td>\n",
       "                        <td id=\"T_2a02404c_7eba_11e9_8137_e0d55e60668erow25_col1\" class=\"data row25 col1\" >1629</td>\n",
       "            </tr>\n",
       "            <tr>\n",
       "                                <td id=\"T_2a02404c_7eba_11e9_8137_e0d55e60668erow26_col0\" class=\"data row26 col0\" >27</td>\n",
       "                        <td id=\"T_2a02404c_7eba_11e9_8137_e0d55e60668erow26_col1\" class=\"data row26 col1\" >1592</td>\n",
       "            </tr>\n",
       "            <tr>\n",
       "                                <td id=\"T_2a02404c_7eba_11e9_8137_e0d55e60668erow27_col0\" class=\"data row27 col0\" >28</td>\n",
       "                        <td id=\"T_2a02404c_7eba_11e9_8137_e0d55e60668erow27_col1\" class=\"data row27 col1\" >1540</td>\n",
       "            </tr>\n",
       "            <tr>\n",
       "                                <td id=\"T_2a02404c_7eba_11e9_8137_e0d55e60668erow28_col0\" class=\"data row28 col0\" >29</td>\n",
       "                        <td id=\"T_2a02404c_7eba_11e9_8137_e0d55e60668erow28_col1\" class=\"data row28 col1\" >1473</td>\n",
       "            </tr>\n",
       "            <tr>\n",
       "                                <td id=\"T_2a02404c_7eba_11e9_8137_e0d55e60668erow29_col0\" class=\"data row29 col0\" >30</td>\n",
       "                        <td id=\"T_2a02404c_7eba_11e9_8137_e0d55e60668erow29_col1\" class=\"data row29 col1\" >1417</td>\n",
       "            </tr>\n",
       "            <tr>\n",
       "                                <td id=\"T_2a02404c_7eba_11e9_8137_e0d55e60668erow30_col0\" class=\"data row30 col0\" >31</td>\n",
       "                        <td id=\"T_2a02404c_7eba_11e9_8137_e0d55e60668erow30_col1\" class=\"data row30 col1\" >1524</td>\n",
       "            </tr>\n",
       "            <tr>\n",
       "                                <td id=\"T_2a02404c_7eba_11e9_8137_e0d55e60668erow31_col0\" class=\"data row31 col0\" >32</td>\n",
       "                        <td id=\"T_2a02404c_7eba_11e9_8137_e0d55e60668erow31_col1\" class=\"data row31 col1\" >1340</td>\n",
       "            </tr>\n",
       "            <tr>\n",
       "                                <td id=\"T_2a02404c_7eba_11e9_8137_e0d55e60668erow32_col0\" class=\"data row32 col0\" >33</td>\n",
       "                        <td id=\"T_2a02404c_7eba_11e9_8137_e0d55e60668erow32_col1\" class=\"data row32 col1\" >1257</td>\n",
       "            </tr>\n",
       "            <tr>\n",
       "                                <td id=\"T_2a02404c_7eba_11e9_8137_e0d55e60668erow33_col0\" class=\"data row33 col0\" >34</td>\n",
       "                        <td id=\"T_2a02404c_7eba_11e9_8137_e0d55e60668erow33_col1\" class=\"data row33 col1\" >1179</td>\n",
       "            </tr>\n",
       "            <tr>\n",
       "                                <td id=\"T_2a02404c_7eba_11e9_8137_e0d55e60668erow34_col0\" class=\"data row34 col0\" >35</td>\n",
       "                        <td id=\"T_2a02404c_7eba_11e9_8137_e0d55e60668erow34_col1\" class=\"data row34 col1\" >1068</td>\n",
       "            </tr>\n",
       "            <tr>\n",
       "                                <td id=\"T_2a02404c_7eba_11e9_8137_e0d55e60668erow35_col0\" class=\"data row35 col0\" >36</td>\n",
       "                        <td id=\"T_2a02404c_7eba_11e9_8137_e0d55e60668erow35_col1\" class=\"data row35 col1\" >1040</td>\n",
       "            </tr>\n",
       "            <tr>\n",
       "                                <td id=\"T_2a02404c_7eba_11e9_8137_e0d55e60668erow36_col0\" class=\"data row36 col0\" >37</td>\n",
       "                        <td id=\"T_2a02404c_7eba_11e9_8137_e0d55e60668erow36_col1\" class=\"data row36 col1\" >1012</td>\n",
       "            </tr>\n",
       "            <tr>\n",
       "                                <td id=\"T_2a02404c_7eba_11e9_8137_e0d55e60668erow37_col0\" class=\"data row37 col0\" >38</td>\n",
       "                        <td id=\"T_2a02404c_7eba_11e9_8137_e0d55e60668erow37_col1\" class=\"data row37 col1\" >1043</td>\n",
       "            </tr>\n",
       "            <tr>\n",
       "                                <td id=\"T_2a02404c_7eba_11e9_8137_e0d55e60668erow38_col0\" class=\"data row38 col0\" >39</td>\n",
       "                        <td id=\"T_2a02404c_7eba_11e9_8137_e0d55e60668erow38_col1\" class=\"data row38 col1\" >970</td>\n",
       "            </tr>\n",
       "            <tr>\n",
       "                                <td id=\"T_2a02404c_7eba_11e9_8137_e0d55e60668erow39_col0\" class=\"data row39 col0\" >40</td>\n",
       "                        <td id=\"T_2a02404c_7eba_11e9_8137_e0d55e60668erow39_col1\" class=\"data row39 col1\" >978</td>\n",
       "            </tr>\n",
       "            <tr>\n",
       "                                <td id=\"T_2a02404c_7eba_11e9_8137_e0d55e60668erow40_col0\" class=\"data row40 col0\" >41</td>\n",
       "                        <td id=\"T_2a02404c_7eba_11e9_8137_e0d55e60668erow40_col1\" class=\"data row40 col1\" >874</td>\n",
       "            </tr>\n",
       "            <tr>\n",
       "                                <td id=\"T_2a02404c_7eba_11e9_8137_e0d55e60668erow41_col0\" class=\"data row41 col0\" >42</td>\n",
       "                        <td id=\"T_2a02404c_7eba_11e9_8137_e0d55e60668erow41_col1\" class=\"data row41 col1\" >838</td>\n",
       "            </tr>\n",
       "            <tr>\n",
       "                                <td id=\"T_2a02404c_7eba_11e9_8137_e0d55e60668erow42_col0\" class=\"data row42 col0\" >43</td>\n",
       "                        <td id=\"T_2a02404c_7eba_11e9_8137_e0d55e60668erow42_col1\" class=\"data row42 col1\" >790</td>\n",
       "            </tr>\n",
       "            <tr>\n",
       "                                <td id=\"T_2a02404c_7eba_11e9_8137_e0d55e60668erow43_col0\" class=\"data row43 col0\" >44</td>\n",
       "                        <td id=\"T_2a02404c_7eba_11e9_8137_e0d55e60668erow43_col1\" class=\"data row43 col1\" >799</td>\n",
       "            </tr>\n",
       "            <tr>\n",
       "                                <td id=\"T_2a02404c_7eba_11e9_8137_e0d55e60668erow44_col0\" class=\"data row44 col0\" >45</td>\n",
       "                        <td id=\"T_2a02404c_7eba_11e9_8137_e0d55e60668erow44_col1\" class=\"data row44 col1\" >740</td>\n",
       "            </tr>\n",
       "            <tr>\n",
       "                                <td id=\"T_2a02404c_7eba_11e9_8137_e0d55e60668erow45_col0\" class=\"data row45 col0\" >46</td>\n",
       "                        <td id=\"T_2a02404c_7eba_11e9_8137_e0d55e60668erow45_col1\" class=\"data row45 col1\" >703</td>\n",
       "            </tr>\n",
       "            <tr>\n",
       "                                <td id=\"T_2a02404c_7eba_11e9_8137_e0d55e60668erow46_col0\" class=\"data row46 col0\" >47</td>\n",
       "                        <td id=\"T_2a02404c_7eba_11e9_8137_e0d55e60668erow46_col1\" class=\"data row46 col1\" >699</td>\n",
       "            </tr>\n",
       "            <tr>\n",
       "                                <td id=\"T_2a02404c_7eba_11e9_8137_e0d55e60668erow47_col0\" class=\"data row47 col0\" >48</td>\n",
       "                        <td id=\"T_2a02404c_7eba_11e9_8137_e0d55e60668erow47_col1\" class=\"data row47 col1\" >658</td>\n",
       "            </tr>\n",
       "            <tr>\n",
       "                                <td id=\"T_2a02404c_7eba_11e9_8137_e0d55e60668erow48_col0\" class=\"data row48 col0\" >49</td>\n",
       "                        <td id=\"T_2a02404c_7eba_11e9_8137_e0d55e60668erow48_col1\" class=\"data row48 col1\" >678</td>\n",
       "            </tr>\n",
       "            <tr>\n",
       "                                <td id=\"T_2a02404c_7eba_11e9_8137_e0d55e60668erow49_col0\" class=\"data row49 col0\" >50</td>\n",
       "                        <td id=\"T_2a02404c_7eba_11e9_8137_e0d55e60668erow49_col1\" class=\"data row49 col1\" >658</td>\n",
       "            </tr>\n",
       "            <tr>\n",
       "                                <td id=\"T_2a02404c_7eba_11e9_8137_e0d55e60668erow50_col0\" class=\"data row50 col0\" >51</td>\n",
       "                        <td id=\"T_2a02404c_7eba_11e9_8137_e0d55e60668erow50_col1\" class=\"data row50 col1\" >700</td>\n",
       "            </tr>\n",
       "            <tr>\n",
       "                                <td id=\"T_2a02404c_7eba_11e9_8137_e0d55e60668erow51_col0\" class=\"data row51 col0\" >52</td>\n",
       "                        <td id=\"T_2a02404c_7eba_11e9_8137_e0d55e60668erow51_col1\" class=\"data row51 col1\" >614</td>\n",
       "            </tr>\n",
       "            <tr>\n",
       "                                <td id=\"T_2a02404c_7eba_11e9_8137_e0d55e60668erow52_col0\" class=\"data row52 col0\" >53</td>\n",
       "                        <td id=\"T_2a02404c_7eba_11e9_8137_e0d55e60668erow52_col1\" class=\"data row52 col1\" >607</td>\n",
       "            </tr>\n",
       "            <tr>\n",
       "                                <td id=\"T_2a02404c_7eba_11e9_8137_e0d55e60668erow53_col0\" class=\"data row53 col0\" >54</td>\n",
       "                        <td id=\"T_2a02404c_7eba_11e9_8137_e0d55e60668erow53_col1\" class=\"data row53 col1\" >617</td>\n",
       "            </tr>\n",
       "            <tr>\n",
       "                                <td id=\"T_2a02404c_7eba_11e9_8137_e0d55e60668erow54_col0\" class=\"data row54 col0\" >55</td>\n",
       "                        <td id=\"T_2a02404c_7eba_11e9_8137_e0d55e60668erow54_col1\" class=\"data row54 col1\" >639</td>\n",
       "            </tr>\n",
       "            <tr>\n",
       "                                <td id=\"T_2a02404c_7eba_11e9_8137_e0d55e60668erow55_col0\" class=\"data row55 col0\" >56</td>\n",
       "                        <td id=\"T_2a02404c_7eba_11e9_8137_e0d55e60668erow55_col1\" class=\"data row55 col1\" >766</td>\n",
       "            </tr>\n",
       "            <tr>\n",
       "                                <td id=\"T_2a02404c_7eba_11e9_8137_e0d55e60668erow56_col0\" class=\"data row56 col0\" >57</td>\n",
       "                        <td id=\"T_2a02404c_7eba_11e9_8137_e0d55e60668erow56_col1\" class=\"data row56 col1\" >615</td>\n",
       "            </tr>\n",
       "            <tr>\n",
       "                                <td id=\"T_2a02404c_7eba_11e9_8137_e0d55e60668erow57_col0\" class=\"data row57 col0\" >58</td>\n",
       "                        <td id=\"T_2a02404c_7eba_11e9_8137_e0d55e60668erow57_col1\" class=\"data row57 col1\" >617</td>\n",
       "            </tr>\n",
       "            <tr>\n",
       "                                <td id=\"T_2a02404c_7eba_11e9_8137_e0d55e60668erow58_col0\" class=\"data row58 col0\" >59</td>\n",
       "                        <td id=\"T_2a02404c_7eba_11e9_8137_e0d55e60668erow58_col1\" class=\"data row58 col1\" >646</td>\n",
       "            </tr>\n",
       "            <tr>\n",
       "                                <td id=\"T_2a02404c_7eba_11e9_8137_e0d55e60668erow59_col0\" class=\"data row59 col0\" >60</td>\n",
       "                        <td id=\"T_2a02404c_7eba_11e9_8137_e0d55e60668erow59_col1\" class=\"data row59 col1\" >629</td>\n",
       "            </tr>\n",
       "            <tr>\n",
       "                                <td id=\"T_2a02404c_7eba_11e9_8137_e0d55e60668erow60_col0\" class=\"data row60 col0\" >61</td>\n",
       "                        <td id=\"T_2a02404c_7eba_11e9_8137_e0d55e60668erow60_col1\" class=\"data row60 col1\" >634</td>\n",
       "            </tr>\n",
       "            <tr>\n",
       "                                <td id=\"T_2a02404c_7eba_11e9_8137_e0d55e60668erow61_col0\" class=\"data row61 col0\" >62</td>\n",
       "                        <td id=\"T_2a02404c_7eba_11e9_8137_e0d55e60668erow61_col1\" class=\"data row61 col1\" >676</td>\n",
       "            </tr>\n",
       "            <tr>\n",
       "                                <td id=\"T_2a02404c_7eba_11e9_8137_e0d55e60668erow62_col0\" class=\"data row62 col0\" >63</td>\n",
       "                        <td id=\"T_2a02404c_7eba_11e9_8137_e0d55e60668erow62_col1\" class=\"data row62 col1\" >868</td>\n",
       "            </tr>\n",
       "            <tr>\n",
       "                                <td id=\"T_2a02404c_7eba_11e9_8137_e0d55e60668erow63_col0\" class=\"data row63 col0\" >64</td>\n",
       "                        <td id=\"T_2a02404c_7eba_11e9_8137_e0d55e60668erow63_col1\" class=\"data row63 col1\" >761</td>\n",
       "            </tr>\n",
       "            <tr>\n",
       "                                <td id=\"T_2a02404c_7eba_11e9_8137_e0d55e60668erow64_col0\" class=\"data row64 col0\" >65</td>\n",
       "                        <td id=\"T_2a02404c_7eba_11e9_8137_e0d55e60668erow64_col1\" class=\"data row64 col1\" >667</td>\n",
       "            </tr>\n",
       "            <tr>\n",
       "                                <td id=\"T_2a02404c_7eba_11e9_8137_e0d55e60668erow65_col0\" class=\"data row65 col0\" >66</td>\n",
       "                        <td id=\"T_2a02404c_7eba_11e9_8137_e0d55e60668erow65_col1\" class=\"data row65 col1\" >755</td>\n",
       "            </tr>\n",
       "            <tr>\n",
       "                                <td id=\"T_2a02404c_7eba_11e9_8137_e0d55e60668erow66_col0\" class=\"data row66 col0\" >67</td>\n",
       "                        <td id=\"T_2a02404c_7eba_11e9_8137_e0d55e60668erow66_col1\" class=\"data row66 col1\" >874</td>\n",
       "            </tr>\n",
       "            <tr>\n",
       "                                <td id=\"T_2a02404c_7eba_11e9_8137_e0d55e60668erow67_col0\" class=\"data row67 col0\" >68</td>\n",
       "                        <td id=\"T_2a02404c_7eba_11e9_8137_e0d55e60668erow67_col1\" class=\"data row67 col1\" >853</td>\n",
       "            </tr>\n",
       "            <tr>\n",
       "                                <td id=\"T_2a02404c_7eba_11e9_8137_e0d55e60668erow68_col0\" class=\"data row68 col0\" >69</td>\n",
       "                        <td id=\"T_2a02404c_7eba_11e9_8137_e0d55e60668erow68_col1\" class=\"data row68 col1\" >1164</td>\n",
       "            </tr>\n",
       "            <tr>\n",
       "                                <td id=\"T_2a02404c_7eba_11e9_8137_e0d55e60668erow69_col0\" class=\"data row69 col0\" >70</td>\n",
       "                        <td id=\"T_2a02404c_7eba_11e9_8137_e0d55e60668erow69_col1\" class=\"data row69 col1\" >1082</td>\n",
       "            </tr>\n",
       "            <tr>\n",
       "                                <td id=\"T_2a02404c_7eba_11e9_8137_e0d55e60668erow70_col0\" class=\"data row70 col0\" >71</td>\n",
       "                        <td id=\"T_2a02404c_7eba_11e9_8137_e0d55e60668erow70_col1\" class=\"data row70 col1\" >1854</td>\n",
       "            </tr>\n",
       "            <tr>\n",
       "                                <td id=\"T_2a02404c_7eba_11e9_8137_e0d55e60668erow71_col0\" class=\"data row71 col0\" >72</td>\n",
       "                        <td id=\"T_2a02404c_7eba_11e9_8137_e0d55e60668erow71_col1\" class=\"data row71 col1\" >1603</td>\n",
       "            </tr>\n",
       "            <tr>\n",
       "                                <td id=\"T_2a02404c_7eba_11e9_8137_e0d55e60668erow72_col0\" class=\"data row72 col0\" >73</td>\n",
       "                        <td id=\"T_2a02404c_7eba_11e9_8137_e0d55e60668erow72_col1\" class=\"data row72 col1\" >5991</td>\n",
       "            </tr>\n",
       "    </tbody></table>"
      ],
      "text/plain": [
       "<pandas.io.formats.style.Styler at 0x7ff5127bf400>"
      ]
     },
     "execution_count": 9,
     "metadata": {},
     "output_type": "execute_result"
    }
   ],
   "source": [
    "counter = Counter(chain.from_iterable(followerss))\n",
    "distribution = Counter(counter.values())\n",
    "\n",
    "df = pandas.DataFrame(\n",
    "    list(distribution.items()),\n",
    "    columns=['number_of_followings', 'population']\n",
    ").sort_values('number_of_followings')\n",
    "\n",
    "df.style.hide_index()"
   ]
  },
  {
   "cell_type": "markdown",
   "metadata": {},
   "source": [
    "# Similarity"
   ]
  },
  {
   "cell_type": "code",
   "execution_count": 10,
   "metadata": {},
   "outputs": [],
   "source": [
    "def jaccard(a, b):\n",
    "    return len(a & b) / len(a | b)\n",
    "\n",
    "\n",
    "def dice(a, b):\n",
    "    return 2 * len(a & b) / (len(a) + len(b))\n",
    "\n",
    "\n",
    "def simpson(a, b):\n",
    "    return len(a & b) / min(len(a), len(b))"
   ]
  },
  {
   "cell_type": "code",
   "execution_count": 11,
   "metadata": {},
   "outputs": [],
   "source": [
    "def similarity_matrix(sim):\n",
    "    arr = np.zeros((n_users, n_users))\n",
    "    \n",
    "    for i in range(n_users):\n",
    "        for j in range(n_users):\n",
    "            arr[i, j] = sim(followerss[i], followerss[j])\n",
    "    \n",
    "    return arr"
   ]
  },
  {
   "cell_type": "code",
   "execution_count": 12,
   "metadata": {},
   "outputs": [],
   "source": [
    "jaccard_mat = 1 - similarity_matrix(jaccard)\n",
    "dice_mat = 1 - similarity_matrix(dice)\n",
    "simpson_mat = 1 - similarity_matrix(simpson)"
   ]
  },
  {
   "cell_type": "code",
   "execution_count": 13,
   "metadata": {},
   "outputs": [],
   "source": [
    "tsne = TSNE(\n",
    "    n_components=2,\n",
    "    metric='precomputed',\n",
    "    perplexity=5,\n",
    "    random_state=0,\n",
    "    n_iter=10000,\n",
    "    n_iter_without_progress=10000\n",
    ")"
   ]
  },
  {
   "cell_type": "code",
   "execution_count": 14,
   "metadata": {},
   "outputs": [],
   "source": [
    "jaccard_embedded = tsne.fit_transform(jaccard_mat)\n",
    "dice_embedded = tsne.fit_transform(dice_mat)\n",
    "simpson_embedded = tsne.fit_transform(simpson_mat)"
   ]
  },
  {
   "cell_type": "code",
   "execution_count": 15,
   "metadata": {},
   "outputs": [],
   "source": [
    "def plot_2d(embedded):\n",
    "    xs, ys = zip(*embedded)\n",
    "    \n",
    "    fig = pyplot.figure(figsize=(10, 10), dpi=200)\n",
    "    ax = fig.add_subplot(111)\n",
    "\n",
    "    ax.scatter(xs, ys)\n",
    "    for i, (x, y) in enumerate(zip(xs, ys)):\n",
    "        ax.annotate(names[i], (x, y))\n",
    "        \n",
    "    return fig"
   ]
  },
  {
   "cell_type": "code",
   "execution_count": null,
   "metadata": {
    "scrolled": false
   },
   "outputs": [],
   "source": [
    "jaccard_fig = plot_2d(jaccard_embedded)"
   ]
  },
  {
   "cell_type": "code",
   "execution_count": null,
   "metadata": {},
   "outputs": [],
   "source": [
    "dice_fig = plot_2d(dice_embedded)"
   ]
  },
  {
   "cell_type": "code",
   "execution_count": null,
   "metadata": {
    "scrolled": false
   },
   "outputs": [],
   "source": [
    "simpson_fig = plot_2d(simpson_embedded)"
   ]
  }
 ],
 "metadata": {
  "kernelspec": {
   "display_name": "Python 3",
   "language": "python",
   "name": "python3"
  },
  "language_info": {
   "codemirror_mode": {
    "name": "ipython",
    "version": 3
   },
   "file_extension": ".py",
   "mimetype": "text/x-python",
   "name": "python",
   "nbconvert_exporter": "python",
   "pygments_lexer": "ipython3",
   "version": "3.7.3"
  },
  "notify_time": "30"
 },
 "nbformat": 4,
 "nbformat_minor": 2
}
